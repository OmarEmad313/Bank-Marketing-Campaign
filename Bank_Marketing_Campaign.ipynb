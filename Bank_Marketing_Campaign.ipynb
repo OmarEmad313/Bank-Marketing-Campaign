{
  "nbformat": 4,
  "nbformat_minor": 0,
  "metadata": {
    "colab": {
      "name": "Bank Marketing Campaign.ipynb",
      "provenance": [],
      "include_colab_link": true
    },
    "kernelspec": {
      "name": "python3",
      "display_name": "Python 3"
    },
    "language_info": {
      "name": "python"
    }
  },
  "cells": [
    {
      "cell_type": "markdown",
      "metadata": {
        "id": "view-in-github",
        "colab_type": "text"
      },
      "source": [
        "<a href=\"https://colab.research.google.com/github/OmarEmad313/Bank-Marketing-Campaign/blob/main/Bank_Marketing_Campaign.ipynb\" target=\"_parent\"><img src=\"https://colab.research.google.com/assets/colab-badge.svg\" alt=\"Open In Colab\"/></a>"
      ]
    },
    {
      "cell_type": "code",
      "source": [
        "# importing libraries\n",
        "\n",
        "import pandas as pd\n",
        "import numpy as np\n",
        "import matplotlib.pyplot as plt \n",
        "import seaborn as sns\n",
        "from sklearn.model_selection import GridSearchCV\n",
        "from sklearn.model_selection import RandomizedSearchCV\n",
        "from sklearn.model_selection import StratifiedShuffleSplit, StratifiedKFold\n",
        "from sklearn import metrics\n",
        "from sklearn.metrics import classification_report\n",
        "from sklearn.metrics import confusion_matrix\n",
        "from sklearn.metrics import accuracy_score\n",
        "import seaborn as sns\n",
        "#Models:\n",
        "from sklearn import svm"
      ],
      "metadata": {
        "id": "OBYvMOfB8s99"
      },
      "execution_count": null,
      "outputs": []
    },
    {
      "cell_type": "code",
      "execution_count": null,
      "metadata": {
        "id": "kFUuYI8c6lvc"
      },
      "outputs": [],
      "source": [
        "df= pd.read_csv('bank.csv')\n",
        "df"
      ]
    },
    {
      "cell_type": "code",
      "source": [
        "#It shows the features with continuous values\n",
        "df.describe()\n",
        "#print(df[\"deposit\"])"
      ],
      "metadata": {
        "id": "KsqIj_Bk99LV"
      },
      "execution_count": null,
      "outputs": []
    },
    {
      "cell_type": "code",
      "source": [
        "# Data Exploration\n",
        "print(df.head())"
      ],
      "metadata": {
        "id": "HDreEt9R-4VZ"
      },
      "execution_count": null,
      "outputs": []
    },
    {
      "cell_type": "code",
      "source": [
        "# checcking data types\n",
        "print(df.dtypes)"
      ],
      "metadata": {
        "id": "GORC64QM_Vm6"
      },
      "execution_count": null,
      "outputs": []
    },
    {
      "cell_type": "code",
      "source": [
        "#Data visualization\n",
        "y_plot = df[\"deposit\"].value_counts().plot(kind='bar')\n",
        "print(y_plot)\n",
        "#edu_plot = df[\"education\"].value_counts().plot(kind='bar')\n",
        "#print(edu_plot)\n",
        "#scatter = df.plot(kind='scatter',x='age',y='balance')\n",
        "#print(scatter)"
      ],
      "metadata": {
        "id": "HcTpZ_is_YHs"
      },
      "execution_count": null,
      "outputs": []
    },
    {
      "cell_type": "code",
      "source": [
        "# Age distribution\n",
        "df.age.hist()\n",
        "plt.title('Histogram')\n",
        "plt.xlabel('Age')\n",
        "plt.ylabel('Frequency')\n",
        "plt.savefig('age_distribution')"
      ],
      "metadata": {
        "id": "hPPep63f_ZZb"
      },
      "execution_count": null,
      "outputs": []
    },
    {
      "cell_type": "code",
      "source": [
        "# Checking feature Correlations\n",
        "\n",
        "cor = df.corr()\n",
        "num_df = df.select_dtypes(exclude=\"object\")\n",
        "corr_num = num_df.corr()\n",
        "sns.heatmap(corr_num, annot=True, cmap=\"RdBu_r\")\n",
        "plt.title(\"Correlation Matrix\", fontsize=16)\n",
        "plt.show()"
      ],
      "metadata": {
        "id": "Tfn6Jj3y_arE"
      },
      "execution_count": null,
      "outputs": []
    },
    {
      "cell_type": "code",
      "source": [
        "# Encoding Target variable\n",
        "target = {\"deposit\":     {\"yes\": 1, \"no\": 0}}\n",
        "df1 = df.replace(target)\n",
        "df1.head()"
      ],
      "metadata": {
        "id": "oMLTu03a_c5M"
      },
      "execution_count": null,
      "outputs": []
    },
    {
      "cell_type": "code",
      "source": [
        "# assignning new data set\n",
        "# dropping columns with high correlation to target\n",
        "df2 = df1.drop([\"duration\"],axis=1) #cor>0.40"
      ],
      "metadata": {
        "id": "vHdZKyPf_eP8"
      },
      "execution_count": null,
      "outputs": []
    },
    {
      "cell_type": "code",
      "source": [
        "# Checking of missing value\n",
        "count_nan = df2.isnull().sum()\n",
        "print(count_nan[count_nan>0]) #no missing values"
      ],
      "metadata": {
        "id": "ePSeeg3v_fkC"
      },
      "execution_count": null,
      "outputs": []
    },
    {
      "cell_type": "code",
      "source": [
        "#checking class balance\n",
        "df.deposit.value_counts()/df.deposit.count()"
      ],
      "metadata": {
        "id": "obqYaveX_g-Z"
      },
      "execution_count": null,
      "outputs": []
    },
    {
      "cell_type": "code",
      "source": [
        "#I'm going to use StratifiedShuffleSplit to preserve the class proportions.\n",
        "sss=StratifiedShuffleSplit(n_splits=1, test_size=0.2, random_state=1)\n",
        "for train_index, test_index in sss.split(df.drop(\"deposit\",axis=1), df.deposit):\n",
        "    traindf=df.loc[train_index] #to select only rows (with all columns) we dont need comma and colon.\n",
        "    testdf= df.loc[test_index]"
      ],
      "metadata": {
        "id": "36wXB-iYUT3Z"
      },
      "execution_count": null,
      "outputs": []
    },
    {
      "cell_type": "code",
      "source": [
        "# Scatterplots to search for linear and non-linear relationships and histograms.\n",
        "sns.pairplot(traindf, diag_kind='hist',  hue= 'deposit', height=1.5, \n",
        "             diag_kws={\"edgecolor\":\"k\", \"alpha\":0.5},\n",
        "             plot_kws={\"alpha\":0.5})\n"
      ],
      "metadata": {
        "id": "H8YrcKfDTTws"
      },
      "execution_count": null,
      "outputs": []
    },
    {
      "cell_type": "code",
      "source": [
        "#Pearson’s Correlations, which measures the strength of a linear relationship\n",
        "sns.heatmap(traindf.corr(method='pearson'), cmap=\"Greys\", annot=True)"
      ],
      "metadata": {
        "id": "rJ0ND2FSUFxB"
      },
      "execution_count": null,
      "outputs": []
    },
    {
      "cell_type": "code",
      "source": [
        "#barplots showing the frequency of each category separated by label\n",
        "plt.figure(figsize=[12,14])\n",
        "features=[\"marital\", \"education\", \"contact\", \"default\", \"housing\", \"loan\", \"poutcome\", \"month\"]\n",
        "n=1\n",
        "for f in features:\n",
        "    plt.subplot(4,2,n)\n",
        "    sns.countplot(x=f, hue='deposit', edgecolor=\"black\", alpha=0.7, data=traindf)\n",
        "    sns.despine()\n",
        "    plt.title(\"Countplot of {}  by deposit\".format(f))\n",
        "    n=n+1\n",
        "plt.tight_layout()\n",
        "plt.show()\n",
        "\n",
        "\n",
        "    \n",
        "plt.figure(figsize=[14,4])\n",
        "sns.countplot(x='job', hue='deposit',edgecolor=\"black\", alpha=0.7, data=traindf)\n",
        "sns.despine()\n",
        "plt.title(\"Countplot of job by deposit\")\n",
        "plt.show()"
      ],
      "metadata": {
        "id": "NHqHmpFdUu61"
      },
      "execution_count": null,
      "outputs": []
    },
    {
      "cell_type": "code",
      "source": [
        "\n",
        "# Encoding Catergorical values\n",
        "data = pd.get_dummies(df2, columns=[\"job\", \"marital\",\"education\",\"default\",\"housing\",\"loan\",\"contact\",\"month\",\"poutcome\" ])\n",
        "#data.describe\n",
        "data.columns"
      ],
      "metadata": {
        "id": "xsHbBSEM_ik-"
      },
      "execution_count": null,
      "outputs": []
    },
    {
      "cell_type": "code",
      "source": [
        "# Splitting data for training and testing\n",
        "#Removing the target from the data set\n",
        "X = data.drop('deposit', axis=1)\n",
        "#adding only the target row to y\n",
        "y = data['deposit']"
      ],
      "metadata": {
        "id": "K3PJHk63_kPY"
      },
      "execution_count": null,
      "outputs": []
    },
    {
      "cell_type": "code",
      "source": [
        "# Create training and testing variables\n",
        "from sklearn.model_selection import train_test_split\n",
        "X_train, X_test, y_train, y_test = train_test_split(X, y, test_size=0.3)\n",
        "print(X_train.shape, y_train.shape)\n",
        "print(X_test.shape, y_test.shape)"
      ],
      "metadata": {
        "id": "sJZzfKjzAGHA"
      },
      "execution_count": null,
      "outputs": []
    },
    {
      "cell_type": "code",
      "source": [
        "svm_model = svm.SVC(gamma='auto')\n",
        "params = {\n",
        "    'C': [0.1, 1, 10],\n",
        "    'gamma': [1, 0.1, 0.01],\n",
        "    'kernel': ['linear','poly','rbf']\n",
        "}\n",
        "\n",
        "rf_grid = RandomizedSearchCV(\n",
        "    estimator=svm_model,\n",
        "    param_distributions=params,\n",
        "    cv=3,\n",
        "    n_jobs=4,\n",
        "    verbose=2\n",
        ")\n",
        "\n",
        "rf_grid.fit(X_train, y_train)\n",
        "print(rf_grid.best_params_)\n"
      ],
      "metadata": {
        "colab": {
          "base_uri": "https://localhost:8080/"
        },
        "id": "gMGAHzAgD4Mj",
        "outputId": "cb7af54c-a359-4a10-ab45-0489b9eb083c"
      },
      "execution_count": null,
      "outputs": [
        {
          "output_type": "stream",
          "name": "stdout",
          "text": [
            "Fitting 3 folds for each of 10 candidates, totalling 30 fits\n"
          ]
        }
      ]
    },
    {
      "cell_type": "markdown",
      "source": [
        "params = {\n",
        "    'C': [0.1, 1, 10, 100],\n",
        "    'gamma': [1, 0.1, 0.01, 0.001],\n",
        "    'kernel': ['rbf']\n",
        "}\n",
        "\n",
        "---\n",
        "\n",
        "\n",
        "Result:\n",
        "{'kernel': 'rbf', 'gamma': 0.001, 'C': 10}\n"
      ],
      "metadata": {
        "id": "KYCitETAOpyj"
      }
    },
    {
      "cell_type": "code",
      "source": [
        "svm_pred = rf_grid.predict(X_test)\n",
        "# model Evaluation\n",
        "print(\"Accuracy:\",accuracy_score(svm_pred, y_test))\n",
        "# Classification Report & Confusion matrix\n",
        "print(confusion_matrix(svm_pred, y_test))\n",
        "print(classification_report(svm_pred, y_test))"
      ],
      "metadata": {
        "id": "I-rRfpZjUF5a"
      },
      "execution_count": null,
      "outputs": []
    },
    {
      "cell_type": "code",
      "source": [
        "accuracy = rf_grid.best_score_ *100\n",
        "print(\"Accuracy for our training dataset with tuning is : {:.2f}%\".format(accuracy) )"
      ],
      "metadata": {
        "id": "3uKfetISdFSU"
      },
      "execution_count": null,
      "outputs": []
    },
    {
      "cell_type": "code",
      "source": [
        "\n",
        "print('Train Accuracy:   {0:.1f}%'.format(rf_grid.score(X_train, y_train)*100))\n",
        "print('Test Accuracy:    {0:.1f}%'.format(rf_grid.score(X_test, y_test)*100))"
      ],
      "metadata": {
        "id": "2CXU9tkRFO-U"
      },
      "execution_count": null,
      "outputs": []
    }
  ]
}